{
 "cells": [
  {
   "cell_type": "markdown",
   "metadata": {},
   "source": [
    "# Final Exam Notebook"
   ]
  },
  {
   "cell_type": "markdown",
   "metadata": {},
   "source": [
    "### 1. In a markdown cell, Embed the screenshot of your server's launch time"
   ]
  },
  {
   "cell_type": "markdown",
   "metadata": {},
   "source": [
    "<img src='AWS Instance.PNG'>"
   ]
  },
  {
   "cell_type": "markdown",
   "metadata": {},
   "source": [
    "### 2. Run command"
   ]
  },
  {
   "cell_type": "code",
   "execution_count": 11,
   "metadata": {},
   "outputs": [
    {
     "name": "stdout",
     "output_type": "stream",
     "text": [
      "[1] \"USER       PID %CPU %MEM    VSZ   RSS TTY      STAT START   TIME COMMAND\"                                                                                                                                                  \n",
      "[2] \"jovyan       1  0.0  0.0   4364    64 ?        Ss   03:45   0:01 tini -- start-notebook.sh\"                                                                                                                                \n",
      "[3] \"jovyan       5  0.0  5.7 357896 58444 ?        Sl   03:45   0:02 /opt/conda/bin/python /opt/conda/bin/jupyter-notebook\"                                                                                                    \n",
      "[4] \"jovyan      27  0.0  5.4 320628 55512 ?        Ssl  20:03   0:00 /opt/conda/lib/R/bin/exec/R --slave -e IRkernel::main() --args /home/jovyan/.local/share/jupyter/runtime/kernel-b723a375-0669-4141-a29d-25462a818dbb.json\"\n",
      "[5] \"jovyan      42  0.0  0.0   4504   700 ?        S    20:35   0:00 sh -c ps -aux\"                                                                                                                                            \n",
      "[6] \"jovyan      43  0.0  0.3  36084  3108 ?        R    20:35   0:00 ps -aux\"                                                                                                                                                  \n"
     ]
    }
   ],
   "source": [
    "print(system(\"ps -aux\", intern = TRUE))"
   ]
  },
  {
   "cell_type": "markdown",
   "metadata": {},
   "source": [
    "### 3. How can this command be interpreted to show how long the system has been running?"
   ]
  },
  {
   "cell_type": "markdown",
   "metadata": {},
   "source": [
    "Start time shows 20:03. Since it doesn't show a date, that means it's been within the last 24 hours"
   ]
  },
  {
   "cell_type": "markdown",
   "metadata": {},
   "source": [
    "### 4. What is the length and magnitude of the vector, (2,5,3,6,2,7,4,5,6)"
   ]
  },
  {
   "cell_type": "markdown",
   "metadata": {},
   "source": [
    "**Length**\n",
    "\n",
    "Number of elements in vector\n",
    "\n",
    "9\n",
    "\n",
    "\n",
    "**Magnitude**\n",
    "\n",
    "geo length of vector\n",
    "\n",
    "$$\\sqrt{2^2 + 5^2 + 3^2 + 6^2 + 2^2 + 7^2 + 4^2 + 5^2 + 6^2}$$\n",
    "\n",
    "$$\\sqrt{204}$$"
   ]
  },
  {
   "cell_type": "markdown",
   "metadata": {},
   "source": [
    "### 5. Verify answers from #4"
   ]
  },
  {
   "cell_type": "code",
   "execution_count": 21,
   "metadata": {},
   "outputs": [
    {
     "data": {
      "text/html": [
       "9"
      ],
      "text/latex": [
       "9"
      ],
      "text/markdown": [
       "9"
      ],
      "text/plain": [
       "[1] 9"
      ]
     },
     "metadata": {},
     "output_type": "display_data"
    },
    {
     "data": {
      "text/html": [
       "14.2828568570857"
      ],
      "text/latex": [
       "14.2828568570857"
      ],
      "text/markdown": [
       "14.2828568570857"
      ],
      "text/plain": [
       "[1] 14.28286"
      ]
     },
     "metadata": {},
     "output_type": "display_data"
    }
   ],
   "source": [
    "vec = c(2,5,3,6,2,7,4,5,6)\n",
    "length(vec)\n",
    "sqrt(sum(vec^2))"
   ]
  },
  {
   "cell_type": "markdown",
   "metadata": {},
   "source": [
    "### 6. Prove that the line through (3,4) and (-1,2) is y = 0.5x + 2.5"
   ]
  },
  {
   "cell_type": "code",
   "execution_count": 39,
   "metadata": {},
   "outputs": [
    {
     "name": "stdout",
     "output_type": "stream",
     "text": [
      "Solve for Ax=B if 0.5x = 2.5 + y\n",
      "0.5x = 2.5 + (4) should yield 3\n"
     ]
    },
    {
     "data": {
      "text/html": [
       "3"
      ],
      "text/latex": [
       "3"
      ],
      "text/markdown": [
       "3"
      ],
      "text/plain": [
       "[1] 3"
      ]
     },
     "metadata": {},
     "output_type": "display_data"
    },
    {
     "name": "stdout",
     "output_type": "stream",
     "text": [
      "0.5x = 2.5 + (2) should yield -1"
     ]
    },
    {
     "data": {
      "text/html": [
       "-1"
      ],
      "text/latex": [
       "-1"
      ],
      "text/markdown": [
       "-1"
      ],
      "text/plain": [
       "[1] -1"
      ]
     },
     "metadata": {},
     "output_type": "display_data"
    }
   ],
   "source": [
    "cat(\"Solve for Ax=B if 0.5x = 2.5 + y\",\"0.5x = 2.5 + (4) should yield 3\",sep=\"\\n\")\n",
    "\n",
    "solve(.5 , -2.5 + 4)\n",
    "\n",
    "cat(\"0.5x = 2.5 + (2) should yield -1\")\n",
    "solve(.5 , -2.5 + 2)"
   ]
  },
  {
   "cell_type": "markdown",
   "metadata": {},
   "source": [
    "### 7. Copy and paste text from tree command showing completed project repo on AWS Server"
   ]
  },
  {
   "cell_type": "markdown",
   "metadata": {},
   "source": [
    "```\n",
    ".\n",
    "├── data\n",
    "│   ├── abalone.data\n",
    "│   ├── abalone.names\n",
    "│   └── AWS Instance.PNG\n",
    "└── ipynb\n",
    "    ├── Abalone Data Description.ipynb\n",
    "    ├── AWS Instance.PNG\n",
    "    ├── Final Exam Notebook.ipynb\n",
    "    └── README.md\n",
    "    ```"
   ]
  },
  {
   "cell_type": "code",
   "execution_count": null,
   "metadata": {},
   "outputs": [],
   "source": []
  }
 ],
 "metadata": {
  "kernelspec": {
   "display_name": "R",
   "language": "R",
   "name": "ir"
  },
  "language_info": {
   "codemirror_mode": "r",
   "file_extension": ".r",
   "mimetype": "text/x-r-source",
   "name": "R",
   "pygments_lexer": "r",
   "version": "3.3.2"
  }
 },
 "nbformat": 4,
 "nbformat_minor": 2
}
